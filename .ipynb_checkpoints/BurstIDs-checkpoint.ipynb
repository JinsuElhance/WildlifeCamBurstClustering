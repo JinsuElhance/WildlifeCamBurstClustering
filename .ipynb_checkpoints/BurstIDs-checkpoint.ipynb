{
 "cells": [
  {
   "cell_type": "code",
   "execution_count": 403,
   "id": "ce479f88",
   "metadata": {
    "ExecuteTime": {
     "end_time": "2022-11-09T01:13:31.272922Z",
     "start_time": "2022-11-09T01:13:31.251046Z"
    }
   },
   "outputs": [],
   "source": [
    "import pandas as pd\n",
    "import matplotlib as plt\n",
    "import os\n",
    "import warnings\n",
    "\n",
    "from pymongo import MongoClient\n",
    "from bson.son import SON\n",
    "from dotenv import load_dotenv\n",
    "\n",
    "warnings.filterwarnings(\"ignore\")"
   ]
  },
  {
   "cell_type": "code",
   "execution_count": 404,
   "id": "ef06782f",
   "metadata": {
    "ExecuteTime": {
     "end_time": "2022-11-09T01:13:31.551052Z",
     "start_time": "2022-11-09T01:13:31.531396Z"
    }
   },
   "outputs": [],
   "source": [
    "#Only run once\n",
    "#!pip install -r requirements.txt\n",
    "#!dotenv set CONNECTION_STRING \"your_connection_string\""
   ]
  },
  {
   "cell_type": "code",
   "execution_count": 405,
   "id": "236dfba6",
   "metadata": {
    "ExecuteTime": {
     "end_time": "2022-11-09T01:13:54.539566Z",
     "start_time": "2022-11-09T01:13:35.560449Z"
    }
   },
   "outputs": [],
   "source": [
    "CONNECTION_STRING = os.getenv('CONNECTION_STRING')\n",
    "\n",
    "def get_database():\n",
    "   CONNECTION_STRING = connection_str\n",
    "   client = MongoClient(CONNECTION_STRING)\n",
    "   return client['user_shopping_list']\n",
    "\n",
    "if __name__ == \"__main__\":   \n",
    "\n",
    "   # Get the database\n",
    "   animl_db = get_database()\n",
    "\n",
    "images_df = pd.DataFrame(list(animl_db.client['animl-prod']['images'].find()))\n",
    "# Local Test Read\n",
    "# images_df = pd.read_csv(\"ab7217c1ec872366f2832d763a4fd8f5.csv\")\n",
    "\n",
    "images_df['burstId'] = None\n",
    "images_df['dateTimeOriginal'] = images_df['dateTimeOriginal'].apply(pd.to_datetime)\n",
    "images_df.sort_values('dateTimeOriginal', inplace=True)"
   ]
  },
  {
   "cell_type": "code",
   "execution_count": 406,
   "id": "90c3a350",
   "metadata": {
    "ExecuteTime": {
     "end_time": "2022-11-09T01:14:25.694225Z",
     "start_time": "2022-11-09T01:14:24.808338Z"
    }
   },
   "outputs": [],
   "source": [
    "#Pull out all possible dep_ids\n",
    "deploymentIds = np.unique(images_df['deploymentId'].values) "
   ]
  },
  {
   "cell_type": "code",
   "execution_count": null,
   "id": "23f33278",
   "metadata": {
    "ExecuteTime": {
     "end_time": "2022-11-09T01:14:25.763230Z",
     "start_time": "2022-11-09T01:14:25.763230Z"
    }
   },
   "outputs": [],
   "source": [
    "def eval_burst(burst, seconds_gap):\n",
    "    \"\"\"\n",
    "    Returns True or False if burst contains images with timestamps < 2 seconds apart\n",
    "    Input:\n",
    "    burst(list[datetime64][3]): list of image timestamps\n",
    "    seconds_gap(int): threshold for gap between images in burst (seconds)\n",
    "    Output:\n",
    "    boolean: images are likely a burst (True) or not (False)\n",
    "    \"\"\"\n",
    "    \n",
    "    return max(np.diff(window['dateTimeOriginal'].values)).astype('float64') / 1e9 <= seconds_gap #seconds max between images"
   ]
  },
  {
   "cell_type": "code",
   "execution_count": null,
   "id": "b7d52ea7",
   "metadata": {
    "ExecuteTime": {
     "end_time": "2022-11-09T01:14:25.771223Z",
     "start_time": "2022-11-09T01:14:25.771223Z"
    }
   },
   "outputs": [],
   "source": [
    "#Iterate over deployments and cluster\n",
    "for deploymentId in deploymentIds:\n",
    "    dep_df = images_df.loc[images_df['deploymentId'] == deploymentId]\n",
    "    dep_df.sort_values('dateTimeOriginal', ascending=True, inplace=True)\n",
    "    dep_df_indices = dep_df.index.to_list()\n",
    "    \n",
    "    #For each deployment, estimate the burst gap: (ceil ( mean ( gap lenghts shorter than 1 minute )))\n",
    "    dep_median_gap = np.ceil(np.mean(list(filter(lambda x: x < 60, np.diff(dep_df['dateTimeOriginal']).astype('float64')/1e9))))\n",
    "    \n",
    "    #sliding window \n",
    "    if not (dep_df.shape[0] > 3):\n",
    "        print(f\"{deploymentId} does not contain enough images to burst cluster... skipping...\")\n",
    "        continue\n",
    "        \n",
    "    start, end = 0, 2\n",
    "    \n",
    "    while end < dep_df.shape[0]-1:\n",
    "        window_i = [_i for _i in range(start, end+1)]\n",
    "        window = dep_df.iloc[window_i]\n",
    "        \n",
    "        if eval_burst(window['dateTimeOriginal'].values, max(2, dep_median_gap)):\n",
    "            #Record Burst ID in Metadata Dataframe\n",
    "            burstId = hash(\"\".join(window['_id'].values))\n",
    "            images_df['burstId'].loc[dep_df_indices[start:end+1]] = burstId\n",
    "            \n",
    "            start, end = start + 3, end + 3 #shift window\n",
    "        else:\n",
    "            start, end = start + 1, end + 1"
   ]
  },
  {
   "cell_type": "code",
   "execution_count": null,
   "id": "9a8cab66",
   "metadata": {
    "ExecuteTime": {
     "end_time": "2022-11-09T01:13:54.633460Z",
     "start_time": "2022-11-09T01:13:54.633460Z"
    }
   },
   "outputs": [],
   "source": [
    "#Assess Non-Clustered Counts per Deployment\n",
    "burst_clustered_proportions = images_df.groupby(['deploymentId', 'cameraId', 'projectId'])['burstId'].agg([lambda x: 1 - (sum(x.isnull()) / x.shape[0]), lambda y: y.shape[0]]).reset_index()\n",
    "burst_clustered_proportions.rename(columns={'<lambda_0>':'burst_proportion', '<lambda_1>':'image_count'})"
   ]
  },
  {
   "cell_type": "code",
   "execution_count": null,
   "id": "5c94773f",
   "metadata": {},
   "outputs": [],
   "source": []
  }
 ],
 "metadata": {
  "kernelspec": {
   "display_name": "Python 3 (ipykernel)",
   "language": "python",
   "name": "python3"
  },
  "language_info": {
   "codemirror_mode": {
    "name": "ipython",
    "version": 3
   },
   "file_extension": ".py",
   "mimetype": "text/x-python",
   "name": "python",
   "nbconvert_exporter": "python",
   "pygments_lexer": "ipython3",
   "version": "3.8.13"
  },
  "toc": {
   "base_numbering": 1,
   "nav_menu": {},
   "number_sections": true,
   "sideBar": true,
   "skip_h1_title": false,
   "title_cell": "Table of Contents",
   "title_sidebar": "Contents",
   "toc_cell": false,
   "toc_position": {},
   "toc_section_display": true,
   "toc_window_display": false
  },
  "varInspector": {
   "cols": {
    "lenName": 16,
    "lenType": 16,
    "lenVar": 40
   },
   "kernels_config": {
    "python": {
     "delete_cmd_postfix": "",
     "delete_cmd_prefix": "del ",
     "library": "var_list.py",
     "varRefreshCmd": "print(var_dic_list())"
    },
    "r": {
     "delete_cmd_postfix": ") ",
     "delete_cmd_prefix": "rm(",
     "library": "var_list.r",
     "varRefreshCmd": "cat(var_dic_list()) "
    }
   },
   "oldHeight": 122.844,
   "position": {
    "height": "144.844px",
    "left": "1406px",
    "right": "20px",
    "top": "186px",
    "width": "350px"
   },
   "types_to_exclude": [
    "module",
    "function",
    "builtin_function_or_method",
    "instance",
    "_Feature"
   ],
   "varInspector_section_display": "block",
   "window_display": false
  }
 },
 "nbformat": 4,
 "nbformat_minor": 5
}
